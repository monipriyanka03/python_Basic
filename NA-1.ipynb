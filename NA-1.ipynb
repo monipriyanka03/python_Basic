{
 "cells": [
  {
   "cell_type": "markdown",
   "metadata": {},
   "source": [
    "#### Question 1 : Love letter"
   ]
  },
  {
   "cell_type": "code",
   "execution_count": 1,
   "metadata": {},
   "outputs": [],
   "source": [
    "def love_letter_rversal():\n",
    "    count = 0\n",
    "    sentence = input(\"Enter the sentance : \")\n",
    "    word = sentence.split()\n",
    "    print(word)\n",
    "    try:\n",
    "        k = int(input(\"Enter the value of k : \"))\n",
    "        for i in range(0,k):\n",
    "            for j in range(0,len(word)):\n",
    "                word[j] = word[j][1:] + word[j][0]\n",
    "        print(word)\n",
    "        for m in range(0,len(word)):\n",
    "            if word[m] == sentence.split()[m]:\n",
    "                count+=1\n",
    "        return count  \n",
    "    except ValueError:\n",
    "        print(\" Enter valid interger value\")"
   ]
  },
  {
   "cell_type": "code",
   "execution_count": 2,
   "metadata": {},
   "outputs": [
    {
     "name": "stdout",
     "output_type": "stream",
     "text": [
      "Enter the sentance : Remove all the occurrences of a character in the string\n",
      "['Remove', 'all', 'the', 'occurrences', 'of', 'a', 'character', 'in', 'the', 'string']\n",
      "Enter the value of k : 5\n",
      "['eRemov', 'lal', 'eth', 'rencesoccur', 'fo', 'a', 'cterchara', 'ni', 'eth', 'gstrin']\n"
     ]
    },
    {
     "data": {
      "text/plain": [
       "1"
      ]
     },
     "execution_count": 2,
     "metadata": {},
     "output_type": "execute_result"
    }
   ],
   "source": [
    "love_letter_rversal()"
   ]
  },
  {
   "cell_type": "markdown",
   "metadata": {},
   "source": [
    "#### Question 2: Remove all the occurrences of a character in the string\n",
    "input = \"geksofgeeks\" \n",
    "c= \"e\"\n",
    "output = \"gksofgks\""
   ]
  },
  {
   "cell_type": "code",
   "execution_count": 3,
   "metadata": {},
   "outputs": [],
   "source": [
    "def remove_char():\n",
    "    sentance = input(\"enter the sentance : \")\n",
    "    char = input(\"enter the character to be remove : \")\n",
    "    print(sentance.replace(char,\"\"))            "
   ]
  },
  {
   "cell_type": "code",
   "execution_count": 4,
   "metadata": {},
   "outputs": [
    {
     "name": "stdout",
     "output_type": "stream",
     "text": [
      "enter the sentance : occurrences\n",
      "enter the character to be remove : r\n",
      "occuences\n"
     ]
    }
   ],
   "source": [
    "remove_char()"
   ]
  },
  {
   "cell_type": "code",
   "execution_count": 5,
   "metadata": {},
   "outputs": [],
   "source": [
    "def remove_char_using_loop():\n",
    "    sentance = input(\"enter the sentance : \")\n",
    "    char = input(\"enter the character to be remove : \")\n",
    "    new_sen = \"\"\n",
    "    for i in sentance:\n",
    "        if i!=char:\n",
    "            new_sen += i\n",
    "    return new_sen    "
   ]
  },
  {
   "cell_type": "code",
   "execution_count": 6,
   "metadata": {},
   "outputs": [
    {
     "name": "stdout",
     "output_type": "stream",
     "text": [
      "enter the sentance : Remove all the occurrences of a character in the string\n",
      "enter the character to be remove : e\n"
     ]
    },
    {
     "data": {
      "text/plain": [
       "'Rmov all th occurrncs of a charactr in th string'"
      ]
     },
     "execution_count": 6,
     "metadata": {},
     "output_type": "execute_result"
    }
   ],
   "source": [
    "remove_char_using_loop()"
   ]
  },
  {
   "cell_type": "markdown",
   "metadata": {},
   "source": [
    "#### Question 3: Program to find the nth prime number using Sieve of Eratosthenes."
   ]
  },
  {
   "cell_type": "code",
   "execution_count": 7,
   "metadata": {},
   "outputs": [],
   "source": [
    "def nth_prime_number():\n",
    "    primes = []\n",
    "    nth_index = int(input(\"Enter the nth index of prime number : \"))\n",
    "    n = 1000005\n",
    "    prime = [True for i in range(n + 1)] \n",
    "    print(prime)\n",
    "    p = 2\n",
    "    while (p * p <= n):\n",
    "        if (prime[p] == True):\n",
    "            for i in range(p * p, n + 1, p):\n",
    "                prime[i] = False\n",
    "        p += 1\n",
    "    for p in range(2, n + 1):\n",
    "        if prime[p]:\n",
    "            primes.append(p)\n",
    "    return primes[nth_index-1]"
   ]
  },
  {
   "cell_type": "code",
   "execution_count": 8,
   "metadata": {},
   "outputs": [
    {
     "name": "stdout",
     "output_type": "stream",
     "text": [
      "Enter the nth index of prime number : 13\n"
     ]
    },
    {
     "name": "stderr",
     "output_type": "stream",
     "text": [
      "IOPub data rate exceeded.\n",
      "The notebook server will temporarily stop sending output\n",
      "to the client in order to avoid crashing it.\n",
      "To change this limit, set the config variable\n",
      "`--NotebookApp.iopub_data_rate_limit`.\n",
      "\n",
      "Current values:\n",
      "NotebookApp.iopub_data_rate_limit=1000000.0 (bytes/sec)\n",
      "NotebookApp.rate_limit_window=3.0 (secs)\n",
      "\n"
     ]
    },
    {
     "data": {
      "text/plain": [
       "41"
      ]
     },
     "execution_count": 8,
     "metadata": {},
     "output_type": "execute_result"
    }
   ],
   "source": [
    "nth_prime_number()\n",
    "#print(\"5th prime number is\", primes[4])"
   ]
  },
  {
   "cell_type": "code",
   "execution_count": 9,
   "metadata": {},
   "outputs": [
    {
     "name": "stdout",
     "output_type": "stream",
     "text": [
      "Enter the nth index of prime number : 13\n",
      "index 13 prime number is = 41\n"
     ]
    }
   ],
   "source": [
    "n= int(input(\"Enter the nth index of prime number : \"))\n",
    "count = 1\n",
    "u = 2\n",
    "prime =[]\n",
    "\n",
    "while(count<=n):\n",
    "    temp =0\n",
    "    for i in range(2,u):\n",
    "        if(u%i==0):\n",
    "            temp =1\n",
    "    if (temp==0):\n",
    "        count+=1\n",
    "        prime.append(u)\n",
    "    u+=1\n",
    "print(f\"index {n} prime number is = {prime[-1]}\")"
   ]
  },
  {
   "cell_type": "markdown",
   "metadata": {},
   "source": [
    "#### Question 4: Write a program to count no of derangements.\n",
    "### OR\n",
    "#### Number of secective arrangements\n",
    "#### Given a number of Objects N (Non repeative objects). Find the number of arrangemnets in which no object occurs at its original position.\n",
    "Input : N , The number of objects \n",
    "<br> Output :  Return the number of arrangements in which no object occurs at its original position."
   ]
  },
  {
   "cell_type": "code",
   "execution_count": 10,
   "metadata": {},
   "outputs": [],
   "source": [
    "def derangements(n):\n",
    "    if n==0:\n",
    "        return 0\n",
    "    if n== 1:\n",
    "        return 0\n",
    "    if n==2:\n",
    "        return 1\n",
    "    return (n - 1) * (derangements(n - 1) + derangements(n - 2))"
   ]
  },
  {
   "cell_type": "code",
   "execution_count": 11,
   "metadata": {},
   "outputs": [
    {
     "data": {
      "text/plain": [
       "9"
      ]
     },
     "execution_count": 11,
     "metadata": {},
     "output_type": "execute_result"
    }
   ],
   "source": [
    "derangements(4)"
   ]
  },
  {
   "cell_type": "markdown",
   "metadata": {},
   "source": [
    "#### Question 5: Write a program to find all the words in a string which are palindrome.  In other words string == reverse(string)\n",
    "input : String\n",
    "<br>input: length of the string\n",
    "<br>output: Return the number of palindromes in the given string"
   ]
  },
  {
   "cell_type": "code",
   "execution_count": 12,
   "metadata": {},
   "outputs": [],
   "source": [
    "def get_palindrone(sentence):\n",
    "    words = sentence.split()\n",
    "    list_palindrone = []\n",
    "    for i in words:\n",
    "        if (i==i[::-1]):\n",
    "            list_palindrone.append(i)\n",
    "    return list_palindrone, len(list_palindrone)"
   ]
  },
  {
   "cell_type": "code",
   "execution_count": 13,
   "metadata": {},
   "outputs": [
    {
     "name": "stdout",
     "output_type": "stream",
     "text": [
      "['a', 'a', 'malayalam'] 3\n"
     ]
    }
   ],
   "source": [
    "words , count = get_palindrone(sentence='Write a program to find all the words in a string which are palindrome malayalam')\n",
    "print(words , count)"
   ]
  },
  {
   "cell_type": "code",
   "execution_count": 14,
   "metadata": {},
   "outputs": [
    {
     "data": {
      "text/plain": [
       "'moni'"
      ]
     },
     "execution_count": 14,
     "metadata": {},
     "output_type": "execute_result"
    }
   ],
   "source": [
    "#Reverse Sting\n",
    "s = \"moni\"\n",
    "s[::1]"
   ]
  },
  {
   "cell_type": "markdown",
   "metadata": {},
   "source": [
    "#### Question 6 : find the highest common factor HCF of n numbers given in an integers array. fill the function HCF() and return the HCF. "
   ]
  },
  {
   "cell_type": "markdown",
   "metadata": {},
   "source": [
    "input : an integer array\n",
    "output : Return the HCF of given numbers"
   ]
  },
  {
   "cell_type": "code",
   "execution_count": 15,
   "metadata": {},
   "outputs": [],
   "source": [
    "def hcf_two_integer(a,b):\n",
    "    if b==0:\n",
    "        return a\n",
    "    else:\n",
    "        return hcf_two_integer(b,a%b)\n",
    "    \n",
    "def hcf(lst):\n",
    "    i=0\n",
    "    hcfTwoInteger = hcf_two_integer(lst[i],lst[i+1])\n",
    "    for i in range(2, len(lst)):\n",
    "        return hcf_two_integer(hcfTwoInteger, lst[i])\n",
    "     "
   ]
  },
  {
   "cell_type": "code",
   "execution_count": 16,
   "metadata": {},
   "outputs": [
    {
     "data": {
      "text/plain": [
       "2"
      ]
     },
     "execution_count": 16,
     "metadata": {},
     "output_type": "execute_result"
    }
   ],
   "source": [
    "hcf(lst = [2, 4, 6, 8, 16])"
   ]
  },
  {
   "cell_type": "markdown",
   "metadata": {},
   "source": [
    "#### Question 7 : Missing Breces\n",
    "#### In Java, Breces are group the statments and decleration together. each opening breaces \"{\" should have accompanied with closing \"}\" breace otherwise complilation of code would result in a failure. Given a piece a piece of code of java, determine whether the code will be give a complilation error due to missing breaces or not.\n",
    "Input : A string containg java code \n",
    "<br> Output :  Return error in case there will be a compliation error due to missing breaces."
   ]
  },
  {
   "cell_type": "code",
   "execution_count": 17,
   "metadata": {},
   "outputs": [],
   "source": [
    "import re\n",
    "def missing_breaces(string):\n",
    "    x = re.findall(\"{\", string)\n",
    "    y = re.findall(\"}\", string)\n",
    "    if len(x)!=len(y):\n",
    "        print(\"Compliation error due to missing breaces\")"
   ]
  },
  {
   "cell_type": "code",
   "execution_count": 18,
   "metadata": {},
   "outputs": [
    {
     "name": "stdout",
     "output_type": "stream",
     "text": [
      "Compliation error due to missing breaces\n"
     ]
    }
   ],
   "source": [
    "string = \"\"\"public static void main(String[] args){\n",
    "                if true \n",
    "                {\n",
    "                    System.out.print(\"hello, world!\");\n",
    "                }\n",
    "            }\n",
    "        }\"\"\"\n",
    "missing_breaces(string)"
   ]
  },
  {
   "cell_type": "markdown",
   "metadata": {},
   "source": [
    "#### Question 8 : Longest common subsequence\n",
    "#### Given two string x and Y (1 <= len(x) , len(y) <= 1000), find the length of their longest common subsequence (LCS), The string contains only lower case characters.\n",
    "<br> Input : input string x\n",
    "<br> Input : input string y\n",
    "<br> Output : Return the length of LCS of x and y."
   ]
  },
  {
   "cell_type": "code",
   "execution_count": 19,
   "metadata": {},
   "outputs": [],
   "source": [
    "def lcs(x,y):\n",
    "    m = len(x)\n",
    "    n = len(y)\n",
    "    L = [[None]*(n+1) for i in range(m+1)]\n",
    "    if m==0 or n==0 or m>1000 or n>1000:\n",
    "        return 0\n",
    "    else:\n",
    "        for i in range(m+1):\n",
    "            for j in range(n+1):\n",
    "                if i == 0 or j == 0 :\n",
    "                    L[i][j] = 0\n",
    "                elif x[i-1] == y[j-1]:\n",
    "                    L[i][j] = L[i-1][j-1]+1\n",
    "                else:\n",
    "                    L[i][j] = max(L[i-1][j] , L[i][j-1])\n",
    "    #print(L)            \n",
    "    return L[m][n]"
   ]
  },
  {
   "cell_type": "code",
   "execution_count": 20,
   "metadata": {},
   "outputs": [
    {
     "data": {
      "text/plain": [
       "4"
      ]
     },
     "execution_count": 20,
     "metadata": {},
     "output_type": "execute_result"
    }
   ],
   "source": [
    "x = \"AGGTAB\"\n",
    "y = \"GXTXAYB\"\n",
    "lcs(x,y)"
   ]
  },
  {
   "cell_type": "markdown",
   "metadata": {},
   "source": [
    "#### Question 9 : Think a number \n",
    "#### Bob and Alice play a game in which Bob gives Alice a challenge to think of any number M between 1 to N. Bob then tell Alice a number X. Alice has to confirm whether X is greater or smaller than number M or equal to M. This continues till Bob finds the number correctly.\n",
    "<br> You task is to find maximum number of attemps bob need to guess the number thought of by Alice.\n",
    "<br> Input : N , the upper limit of the number guessed by Alice (1<=N<=108)\n",
    "<br> Output : Your function should return the maximum numbers of attempts requires to find the number M (1<=M<=N)."
   ]
  },
  {
   "cell_type": "code",
   "execution_count": 21,
   "metadata": {},
   "outputs": [],
   "source": [
    "import random\n",
    "def think_a_number_game():\n",
    "    n = int(input(\"Enter the value of N : \"))\n",
    "    m = int(input(\"Enter the value of M : \"))\n",
    "    i = 0\n",
    "    guess_list = []\n",
    "    lower_limit = 1\n",
    "    upper_limit = n\n",
    "    random_num = random.randrange(lower_limit, upper_limit)\n",
    "    guess_list.append(random_num)\n",
    "    if m==1 and n==1:\n",
    "        return 1\n",
    "    if m>=1 and m<=n and n!=1:\n",
    "        for i in range(n):\n",
    "            #print(f\"When i is {i} and guess is {random_num} | lower_limit : {lower_limit}| upper_limit : {upper_limit}, guess_list - {guess_list}\")\n",
    "            if guess_list[i] < m:\n",
    "                lower_limit = random_num\n",
    "                random_num = random.randrange(lower_limit + 1, upper_limit)\n",
    "                guess_list.append(random_num)\n",
    "            if guess_list[i] > m:\n",
    "                upper_limit = random_num  \n",
    "                random_num = random.randrange(lower_limit, upper_limit - 1)\n",
    "                guess_list.append(random_num)\n",
    "            if guess_list[i] == m:\n",
    "                break\n",
    "    return i+1, guess_list\n"
   ]
  },
  {
   "cell_type": "code",
   "execution_count": 22,
   "metadata": {},
   "outputs": [
    {
     "name": "stdout",
     "output_type": "stream",
     "text": [
      "Enter the value of N : 100\n",
      "Enter the value of M : 56\n"
     ]
    },
    {
     "data": {
      "text/plain": [
       "(9, [36, 93, 88, 85, 72, 68, 63, 53, 56])"
      ]
     },
     "execution_count": 22,
     "metadata": {},
     "output_type": "execute_result"
    }
   ],
   "source": [
    "think_a_number_game()"
   ]
  },
  {
   "cell_type": "markdown",
   "metadata": {},
   "source": [
    "#### Question 10 : Street lights\n",
    "#### One of the streets in your city has a total of L streat lights. Each light i covers the distance from Xi to Yi distance. Find the length of the street covered with lights\n",
    "<br> Input 1 : L , denoting the number of treat lights.\n",
    "<br> Input 2 : An array of L*2 elements. For each row i(Xi, Yi) denotes the streat light i covers the distance from Xi to Yi.\n",
    "<br> Output : Your function should return the length of the streat covered with lights.\n",
    "\n",
    "<br> ex- L=1 | [[5,10]] | streat lenghth = 10-5=5\n",
    "<br> ex- L=2 | [[5,10],[8-12]] | lenghth = (10-5=5) + (12-8=4) = 9 | coomon region = 10-8 = 2 | streat lenghth = 9-2=7"
   ]
  },
  {
   "cell_type": "code",
   "execution_count": 23,
   "metadata": {},
   "outputs": [],
   "source": [
    "def street_lights(l, l_array):\n",
    "    sum = 0\n",
    "    if len(l_array) == l:\n",
    "        if len(l_array)==1:\n",
    "            return l_array[0][1]-l_array[0][0]\n",
    "        if len(l_array)>1:\n",
    "            for i in range(0,len(l_array)):\n",
    "                sum += l_array[i][1]-l_array[i][0]\n",
    "                common_region = l_array[0][1] - l_array[-1][0]\n",
    "                street_length = sum - common_region\n",
    "    return street_length"
   ]
  },
  {
   "cell_type": "code",
   "execution_count": 24,
   "metadata": {},
   "outputs": [
    {
     "data": {
      "text/plain": [
       "14"
      ]
     },
     "execution_count": 24,
     "metadata": {},
     "output_type": "execute_result"
    }
   ],
   "source": [
    "l_1 = 3\n",
    "l_array_1 = [[5,10],[8,12],[6,15]]\n",
    "street_lights(l_1 ,l_array_1)"
   ]
  },
  {
   "cell_type": "code",
   "execution_count": 25,
   "metadata": {},
   "outputs": [
    {
     "data": {
      "text/plain": [
       "7"
      ]
     },
     "execution_count": 25,
     "metadata": {},
     "output_type": "execute_result"
    }
   ],
   "source": [
    "l_2 = 2\n",
    "l_array_2 = [[5,10],[8,12]]\n",
    "street_lights(l_2,l_array_2)"
   ]
  },
  {
   "cell_type": "markdown",
   "metadata": {},
   "source": [
    "#### Question 11 : Planting Trees\n",
    "#### In a particular field, there are trees in a single row from left to right. Each tree has a value V. You cut tree from left to right and for each tree of value V that you cut, you plant (V+1)%. M trees on the right most end with values ranging from 0 to ((V+1)%M)-1.\n",
    "<br> Initially there was only one tree with value 2. Find the total number of trees present after cutting K trees.\n",
    "<br> Input 1 : L , denoting the number of trees that are cut.\n",
    "<br> Input 2 : M, denoting the modulus value\n",
    "<br> Output : Your function should return the total number of trees in the field."
   ]
  },
  {
   "cell_type": "code",
   "execution_count": 26,
   "metadata": {},
   "outputs": [],
   "source": [
    "def  planting_trees(l,m):\n",
    "    l = int(input(\"Number of trees that are cut : \"))\n",
    "    m = int(input(\"Modulus value : \"))\n",
    "    v = 2\n",
    "    return l*((v+1)%m)    "
   ]
  },
  {
   "cell_type": "code",
   "execution_count": 28,
   "metadata": {},
   "outputs": [
    {
     "name": "stdout",
     "output_type": "stream",
     "text": [
      "Number of trees that are cut : 4\n",
      "Modulus value : 5\n"
     ]
    },
    {
     "data": {
      "text/plain": [
       "12"
      ]
     },
     "execution_count": 28,
     "metadata": {},
     "output_type": "execute_result"
    }
   ],
   "source": [
    "l = 2\n",
    "m = 5\n",
    "planting_trees(l,m)"
   ]
  },
  {
   "cell_type": "markdown",
   "metadata": {},
   "source": [
    "#### Question 12 : Sort the array in O(N)\n",
    "<br> elements as 0 and 1 "
   ]
  },
  {
   "cell_type": "code",
   "execution_count": 29,
   "metadata": {},
   "outputs": [
    {
     "data": {
      "text/plain": [
       "[0, 0, 0, 0, 0, 1, 1, 1, 1, 1]"
      ]
     },
     "execution_count": 29,
     "metadata": {},
     "output_type": "execute_result"
    }
   ],
   "source": [
    "def sort_array_of_0_and_1(lst):\n",
    "    j = 0\n",
    "    for i in range(0,len(lst)):\n",
    "        if lst[i]==0:\n",
    "            temp = lst[j]\n",
    "            lst[j] = lst[i]\n",
    "            lst[i] = temp\n",
    "            j+=1\n",
    "    return lst\n",
    "\n",
    "lst = [0,1,0,1,1,0,1,0,1,0]\n",
    "sort_array_of_0_and_1(lst)    "
   ]
  },
  {
   "cell_type": "markdown",
   "metadata": {},
   "source": [
    "#### Question 13 : Find the common elements in the 3 sorted array in O(N)"
   ]
  },
  {
   "cell_type": "code",
   "execution_count": 30,
   "metadata": {},
   "outputs": [],
   "source": [
    "def common_element(l1,l2,l3):\n",
    "    sorted_list = []\n",
    "    i = 0\n",
    "    j =0\n",
    "    k=0\n",
    "    while(i<len(l1) and j<len(l2) and k<len(l3)):\n",
    "        if l1[i]==l2[j] and l2[j]==l3[k]:\n",
    "            sorted_list.append(l1[i])\n",
    "            i+=1\n",
    "            j+=1\n",
    "            k+=1\n",
    "        else:\n",
    "            if l1[i]<l2[j] and l2[j]==l3[k]:\n",
    "                i+=1\n",
    "            elif l2[j]<l1[i] and l1[i]==l3[k]:\n",
    "                j+=1\n",
    "            elif l3[k]<l2[j] and l2[j]==l1[i]:\n",
    "                k+=1\n",
    "            elif l3[k]>l2[j] and l3[k]>l1[i]:\n",
    "                i+=1\n",
    "                j+=1 \n",
    "            elif l2[j]>l3[k] and l2[j]>l1[i]:\n",
    "                i+=1\n",
    "                k+=1 \n",
    "            elif l1[i]>l3[k] and l1[i]>l2[2]:\n",
    "                j+=1\n",
    "                k+=1\n",
    "    if len(sorted_list)!=0:\n",
    "        return sorted_list\n",
    "    else:\n",
    "        print(\"No common element\")"
   ]
  },
  {
   "cell_type": "code",
   "execution_count": 31,
   "metadata": {},
   "outputs": [
    {
     "data": {
      "text/plain": [
       "[2, 7, 19, 21, 28]"
      ]
     },
     "execution_count": 31,
     "metadata": {},
     "output_type": "execute_result"
    }
   ],
   "source": [
    "l1 = [1,2,5,7,8,11,19,21,22,28]\n",
    "l2 = [2,3,6,7,15,19,21,28,29,30]\n",
    "l3 = [2,7,8,15,19,21,22,23,28,30]\n",
    "common_element(l1,l2,l3)"
   ]
  },
  {
   "cell_type": "markdown",
   "metadata": {},
   "source": [
    "#### Question 14 : sort the array with -ve and +ve values in O(N)"
   ]
  },
  {
   "cell_type": "code",
   "execution_count": 32,
   "metadata": {},
   "outputs": [],
   "source": [
    "def resort_array(lst):\n",
    "    i=0\n",
    "    j=len(lst)-1\n",
    "    while(j!=i):\n",
    "        if abs(lst[i]) > abs(lst[i+1]):\n",
    "            if abs(lst[i]) > abs(lst[j]):\n",
    "                lst[i],lst[j] = lst[j],lst[i]\n",
    "            j-=1\n",
    "        else:\n",
    "            lst[i],lst[i+1] = lst[i+1],lst[i]\n",
    "            if abs(lst[i]) > abs(lst[j]):\n",
    "                lst[i],lst[j] = lst[j],lst[i]\n",
    "            j-=1\n",
    "    return lst            "
   ]
  },
  {
   "cell_type": "code",
   "execution_count": 33,
   "metadata": {},
   "outputs": [
    {
     "data": {
      "text/plain": [
       "[-1, 3, -3, -5, 6, -8, 9]"
      ]
     },
     "execution_count": 33,
     "metadata": {},
     "output_type": "execute_result"
    }
   ],
   "source": [
    "l1 = [-8,-5,-3,-1,3,6,9]\n",
    "resort_array(l1)"
   ]
  },
  {
   "cell_type": "markdown",
   "metadata": {},
   "source": [
    "#### Question 15 : String manupulation"
   ]
  },
  {
   "cell_type": "code",
   "execution_count": 37,
   "metadata": {},
   "outputs": [
    {
     "name": "stdout",
     "output_type": "stream",
     "text": [
      "['a', '3', 'b', '3', 'g', '2', 'd', '3', 's', '3', 'u', '3', 'f', '3', 'i', '2']\n"
     ]
    },
    {
     "data": {
      "text/plain": [
       "'a3b3g2d3s3u3f3i2'"
      ]
     },
     "execution_count": 37,
     "metadata": {},
     "output_type": "execute_result"
    }
   ],
   "source": [
    "def my_fun(string):\n",
    "    ls = []\n",
    "    for i in string:\n",
    "        if i not in ls:\n",
    "            ls.append(i)\n",
    "            num = string.count(i)\n",
    "            ls.append(str(num))\n",
    "    print(ls)\n",
    "    results = \"\".join(ls)\n",
    "    return results\n",
    "\n",
    "string = \"abababgdsufsdifuisdfgu\"\n",
    "my_fun(string)"
   ]
  },
  {
   "cell_type": "markdown",
   "metadata": {},
   "source": [
    "#### Question 16 : String manupulation\n",
    "modify_variableName > modify_variableName\n",
    "thisIsTheFunction > this_is_the_function"
   ]
  },
  {
   "cell_type": "code",
   "execution_count": 38,
   "metadata": {},
   "outputs": [
    {
     "data": {
      "text/plain": [
       "'this_is_the_function'"
      ]
     },
     "execution_count": 38,
     "metadata": {},
     "output_type": "execute_result"
    }
   ],
   "source": [
    "def string_manupulation(string):\n",
    "    lst =[]\n",
    "    for i in string:\n",
    "        lst.append(i)\n",
    "    i=0\n",
    "    lst_1 = []        \n",
    "    if \"_\" in lst:\n",
    "        while (i < len(lst)):\n",
    "            if lst[i]!=\"_\":\n",
    "                lst_1.append(lst[i])\n",
    "            elif lst[i]==\"_\":\n",
    "                lst_1.append(lst[i].replace(\"_\",lst[i+1].capitalize()))\n",
    "                lst.remove(lst[i+1])\n",
    "            i+=1\n",
    "        return \"\".join(lst_1)\n",
    "    else:\n",
    "        for i in range(len(lst)):\n",
    "            if lst[i].islower():\n",
    "                lst_1.append(lst[i])\n",
    "            if lst[i].isupper():\n",
    "                j = lst[i]\n",
    "                lst_1.append(\"_\")\n",
    "                lst_1.append(lst[i].replace(lst[i+1],j))\n",
    "        for i in range(len(lst_1)):\n",
    "            if lst_1[i].isupper():\n",
    "                lst_1[i] = lst_1[i].casefold()\n",
    "        return \"\".join(lst_1)                \n",
    "\n",
    "\n",
    "string_1 = \"modify_variableName_love\"  \n",
    "string = \"thisIsTheFunction\" \n",
    "string_manupulation(string)"
   ]
  },
  {
   "cell_type": "code",
   "execution_count": 39,
   "metadata": {},
   "outputs": [
    {
     "data": {
      "text/plain": [
       "'modifyVariableNameLove'"
      ]
     },
     "execution_count": 39,
     "metadata": {},
     "output_type": "execute_result"
    }
   ],
   "source": [
    "string_manupulation(string_1)"
   ]
  },
  {
   "cell_type": "markdown",
   "metadata": {},
   "source": [
    "#### Question 17 : Given a starting point in an array of XY size. You have to rotate a sub array of size N , starting from given start point.\n",
    "#### OR\n",
    "#### You are given a mxm matrix, write a function to rotate sub-matrix within the matrix by 90 degree anti-clockwise. Function takes X , Y as starting row and column co-ordinates or matrix and N as the size of sub-matrix as arguments (in-place rotation)."
   ]
  },
  {
   "cell_type": "code",
   "execution_count": 34,
   "metadata": {},
   "outputs": [],
   "source": [
    "# Not completed\n",
    "xy = [[1,2,3,4],[5,6,7,8],[9,10,11,12],[13,14,15,16]]\n",
    "# transpose\n",
    "result = [[None]* len(x) for x in xy]\n",
    "for i in range(0,len(xy[0])):\n",
    "    for j in range(0,len(xy)):\n",
    "        if i!=0 and j!=0:\n",
    "            result[i][j] = xy[j][i]\n",
    "        else:\n",
    "            result[i][j] = xy[i][j]\n",
    "# Column reverse\n",
    "k=len(xy)-1\n",
    "matrix_2 = [[None]* len(x) for x in result]\n",
    "for i in range(0,len(xy[0])):\n",
    "    for j in range(0,len(xy)):\n",
    "            if i!=0 and j!=0:\n",
    "                matrix_2[j][i]= result[k][j]\n",
    "                k-=1\n",
    "                if j >=k:\n",
    "                    break\n",
    "            else:\n",
    "                matrix_2[i][j] = xy[i][j]"
   ]
  },
  {
   "cell_type": "code",
   "execution_count": 35,
   "metadata": {},
   "outputs": [
    {
     "data": {
      "text/plain": [
       "[[1, 2, 3, 4], [5, 6, 10, 14], [9, 7, 11, 15], [13, 8, 12, 16]]"
      ]
     },
     "execution_count": 35,
     "metadata": {},
     "output_type": "execute_result"
    }
   ],
   "source": [
    "result"
   ]
  },
  {
   "cell_type": "code",
   "execution_count": 36,
   "metadata": {},
   "outputs": [
    {
     "data": {
      "text/plain": [
       "[[1, 2, 3, 4], [5, 8, 6, 2], [9, 11, None, None], [13, None, None, None]]"
      ]
     },
     "execution_count": 36,
     "metadata": {},
     "output_type": "execute_result"
    }
   ],
   "source": [
    "matrix_2"
   ]
  }
 ],
 "metadata": {
  "kernelspec": {
   "display_name": "Python 3",
   "language": "python",
   "name": "python3"
  },
  "language_info": {
   "codemirror_mode": {
    "name": "ipython",
    "version": 3
   },
   "file_extension": ".py",
   "mimetype": "text/x-python",
   "name": "python",
   "nbconvert_exporter": "python",
   "pygments_lexer": "ipython3",
   "version": "3.8.5"
  }
 },
 "nbformat": 4,
 "nbformat_minor": 4
}
