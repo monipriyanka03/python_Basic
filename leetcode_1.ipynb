{
 "cells": [
  {
   "cell_type": "markdown",
   "metadata": {},
   "source": [
    "#### ID 520: We define the usage of capitals in a word to be right when one of the following cases holds:\n",
    "\n",
    "<br> All letters in this word are capitals, like \"USA\".\n",
    "<br> All letters in this word are not capitals, like \"leetcode\".\n",
    "<br> Only the first letter in this word is capital, like \"Google\".\n",
    "<br> Otherwise, we define that this word doesn't use capitals in a right way.\n",
    "\n",
    "##### Note: The input will be a non-empty word consisting of uppercase and lowercase latin letters."
   ]
  },
  {
   "cell_type": "code",
   "execution_count": 1,
   "metadata": {},
   "outputs": [],
   "source": [
    "def detectCapitalUse(word):\n",
    "    if word!=\"\":\n",
    "        if word.islower():\n",
    "            return True\n",
    "        elif word.isupper():\n",
    "            return True\n",
    "        elif word[0].isupper() and word[1:].islower():\n",
    "            return True\n",
    "        else:\n",
    "            return False\n",
    "    else:\n",
    "        print(\"The input should be a non-empty word consisting of uppercase and lowercase latin letters\")"
   ]
  },
  {
   "cell_type": "code",
   "execution_count": 2,
   "metadata": {},
   "outputs": [
    {
     "data": {
      "text/plain": [
       "False"
      ]
     },
     "execution_count": 2,
     "metadata": {},
     "output_type": "execute_result"
    }
   ],
   "source": [
    "word = \"FlaG\"\n",
    "detectCapitalUse(word)"
   ]
  },
  {
   "cell_type": "code",
   "execution_count": 3,
   "metadata": {},
   "outputs": [
    {
     "data": {
      "text/plain": [
       "True"
      ]
     },
     "execution_count": 3,
     "metadata": {},
     "output_type": "execute_result"
    }
   ],
   "source": [
    "word = \"USA\"\n",
    "detectCapitalUse(word)"
   ]
  },
  {
   "cell_type": "code",
   "execution_count": 4,
   "metadata": {},
   "outputs": [
    {
     "data": {
      "text/plain": [
       "True"
      ]
     },
     "execution_count": 4,
     "metadata": {},
     "output_type": "execute_result"
    }
   ],
   "source": [
    "word = \"leetcode\"\n",
    "detectCapitalUse(word)"
   ]
  },
  {
   "cell_type": "code",
   "execution_count": 5,
   "metadata": {},
   "outputs": [
    {
     "data": {
      "text/plain": [
       "True"
      ]
     },
     "execution_count": 5,
     "metadata": {},
     "output_type": "execute_result"
    }
   ],
   "source": [
    "word = \"Google\"\n",
    "detectCapitalUse(word)"
   ]
  },
  {
   "cell_type": "code",
   "execution_count": 6,
   "metadata": {},
   "outputs": [
    {
     "name": "stdout",
     "output_type": "stream",
     "text": [
      "The input should be a non-empty word consisting of uppercase and lowercase latin letters\n"
     ]
    }
   ],
   "source": [
    "word = \"\"\n",
    "detectCapitalUse(word)"
   ]
  },
  {
   "cell_type": "markdown",
   "metadata": {},
   "source": [
    "#### ID 922. Sort Array By Parity II\n",
    "<br> Given an array of integers nums, half of the integers in nums are odd, and the other half are even.\n",
    "<br> Sort the array so that whenever nums[i] is odd, i is odd, and whenever nums[i] is even, i is even. \n",
    "<br> Return any answer array that satisfies this condition.\n",
    "<br> Input: nums = [4,2,5,7]\n",
    "<br> Output: [4,5,2,7]\n",
    "<br> Explanation: [4,7,2,5], [2,5,4,7], [2,7,4,5] would also have been accepted.\n",
    "#### Constraints:\n",
    "<br> 2 <= nums.length <= 2 * 104\n",
    "<br> nums.length is even.\n",
    "<br> Half of the integers in nums are even.\n",
    "<br> 0 <= nums[i] <= 1000"
   ]
  },
  {
   "cell_type": "code",
   "execution_count": 40,
   "metadata": {},
   "outputs": [],
   "source": [
    "def sortArrayByParityII(nums):\n",
    "    odd =[]\n",
    "    even =[]\n",
    "    if len(nums)>=2 and len(nums)<= 2*10000 and len(nums)%2==0:\n",
    "        for i in range(0, len(nums)):\n",
    "            if nums[i]>=0 and nums[i]<=1000:\n",
    "                if nums[i]%2==0:\n",
    "                    even.append(nums[i])\n",
    "                else:\n",
    "                    odd.append(nums[i])\n",
    "            else:\n",
    "                return None\n",
    "                \n",
    "        if len(even)==len(odd):\n",
    "            return [item for pair in zip(even, odd + [0]) for item in pair]\n",
    "        else:\n",
    "            return None\n",
    "    else:\n",
    "        return None"
   ]
  },
  {
   "cell_type": "code",
   "execution_count": 42,
   "metadata": {},
   "outputs": [
    {
     "data": {
      "text/plain": [
       "[4, 5, 2, 7]"
      ]
     },
     "execution_count": 42,
     "metadata": {},
     "output_type": "execute_result"
    }
   ],
   "source": [
    "nums = [4,2,5,7]\n",
    "sortArrayByParityII(nums)"
   ]
  },
  {
   "cell_type": "markdown",
   "metadata": {},
   "source": [
    "#### ID 9. Palindrome Number\n",
    "<br> Given an integer x, return true if x is palindrome integer.\n",
    "<br> An integer is a palindrome when it reads the same backward as forward. For example, 121 is palindrome while 123 is not.\n",
    "<br> Input: x = 121\n",
    "<br> Output: true\n",
    "<br> Input: x = -121\n",
    "<br> Output: false\n",
    "<br> Explanation: From left to right, it reads -121. From right to left, it becomes 121-. Therefore it is not a palindrome.\n",
    "<br> Constraints:\n",
    "<br> -231 <= x <= 231 - 1\n",
    "<br> Follow up: Could you solve it without converting the integer to a string?"
   ]
  },
  {
   "cell_type": "markdown",
   "metadata": {},
   "source": [
    "#### Solution :  Using math.log() + recursion + list comprehension\n",
    "#### The combination of above three functions can perform this particular task easily, the logs function extracts the number of digits which is powered by 10 to get the number for that iteration for comparison. The process is recurred to test for palindrome."
   ]
  },
  {
   "cell_type": "code",
   "execution_count": 89,
   "metadata": {},
   "outputs": [],
   "source": [
    "def isPalindrome(x):\n",
    "    str_x = str(x)\n",
    "    if x >= -2**31 and x<=(2**31)-1:\n",
    "        if str_x == str_x[::-1]:\n",
    "            return True\n",
    "        else:\n",
    "            return False \n",
    "    else:\n",
    "        print(\"-2147483648 <= x <= 2147483647\")"
   ]
  },
  {
   "cell_type": "code",
   "execution_count": 90,
   "metadata": {},
   "outputs": [
    {
     "data": {
      "text/plain": [
       "True"
      ]
     },
     "execution_count": 90,
     "metadata": {},
     "output_type": "execute_result"
    }
   ],
   "source": [
    "isPalindrome(121)"
   ]
  },
  {
   "cell_type": "code",
   "execution_count": 91,
   "metadata": {},
   "outputs": [
    {
     "data": {
      "text/plain": [
       "False"
      ]
     },
     "execution_count": 91,
     "metadata": {},
     "output_type": "execute_result"
    }
   ],
   "source": [
    "isPalindrome(12990)"
   ]
  },
  {
   "cell_type": "markdown",
   "metadata": {},
   "source": [
    "#### 7. Reverse Integer\n",
    "<br> Given a signed 32-bit integer x, return x with its digits reversed. If reversing x causes the value to go outside the signed 32-bit integer range [-231, 231 - 1], then return 0.\n",
    "\n",
    "<br>  Assume the environment does not allow you to store 64-bit integers (signed or unsigned).\n",
    "<br> Input: x = 123\n",
    "<br> Output: 321\n",
    "<br> Constraints:\n",
    "<br> -231 <= x <= 231 - 1"
   ]
  },
  {
   "cell_type": "code",
   "execution_count": 93,
   "metadata": {},
   "outputs": [],
   "source": [
    "def reverse(x):\n",
    "    str_x = str(abs(x))\n",
    "    if (x >= -2**31 and x<=(2**31)-1) and (int(str_x[::-1]) >= -2**31 and int(str_x[::-1]) <=(2**31)-1):\n",
    "        if x>0:            \n",
    "            return int(str_x[::-1])  \n",
    "        else:\n",
    "            return -int(str_x[::-1])  \n",
    "    else:\n",
    "        return 0"
   ]
  },
  {
   "cell_type": "code",
   "execution_count": 94,
   "metadata": {},
   "outputs": [
    {
     "data": {
      "text/plain": [
       "0"
      ]
     },
     "execution_count": 94,
     "metadata": {},
     "output_type": "execute_result"
    }
   ],
   "source": [
    "reverse(1534236469)"
   ]
  },
  {
   "cell_type": "code",
   "execution_count": 86,
   "metadata": {},
   "outputs": [
    {
     "data": {
      "text/plain": [
       "False"
      ]
     },
     "execution_count": 86,
     "metadata": {},
     "output_type": "execute_result"
    }
   ],
   "source": [
    "2147483647 > 9646324351"
   ]
  },
  {
   "cell_type": "markdown",
   "metadata": {},
   "source": [
    "####  21. Merge Two Sorted Lists\n",
    "<br> Merge two sorted linked lists and return it as a sorted list. The list should be made by splicing together the nodes of the first two lists.\n",
    "<br> Input: l1 = [1,2,4], l2 = [1,3,4]\n",
    "<br> Output: [1,1,2,3,4,4]\n",
    "<br> Input: l1 = [], l2 = []\n",
    "<br> Output: []\n",
    "<br> Input: l1 = [], l2 = [0]\n",
    "<br> Output: [0]\n",
    "<br> Constraints:\n",
    "<br> The number of nodes in both lists is in the range [0, 50]\n",
    "<br> -100 <= Node.val <= 100\n",
    "<br> Both l1 and l2 are sorted in non-decreasing order."
   ]
  },
  {
   "cell_type": "code",
   "execution_count": 111,
   "metadata": {},
   "outputs": [],
   "source": [
    "def mergeTwoLists(l1,l2):\n",
    "    if (len(l1)>=0) and (len(l1)<50) and (len(l2)>=0) and (len(l2)<50):\n",
    "        sorted_list = [item for pair in zip(l1, l2) for item in pair] \n",
    "        for i in sorted_list:\n",
    "            if i>=-100 and i<=100:\n",
    "                return sorted_list\n",
    "            else:"
   ]
  },
  {
   "cell_type": "code",
   "execution_count": 112,
   "metadata": {},
   "outputs": [
    {
     "data": {
      "text/plain": [
       "[1, 1, 2, 3, 4, 4]"
      ]
     },
     "execution_count": 112,
     "metadata": {},
     "output_type": "execute_result"
    }
   ],
   "source": [
    "l1 = [1,2,4]\n",
    "l2 = [1,3,4]\n",
    "mergeTwoLists(l1,l2)"
   ]
  },
  {
   "cell_type": "code",
   "execution_count": null,
   "metadata": {},
   "outputs": [],
   "source": []
  }
 ],
 "metadata": {
  "kernelspec": {
   "display_name": "Python 3",
   "language": "python",
   "name": "python3"
  },
  "language_info": {
   "codemirror_mode": {
    "name": "ipython",
    "version": 3
   },
   "file_extension": ".py",
   "mimetype": "text/x-python",
   "name": "python",
   "nbconvert_exporter": "python",
   "pygments_lexer": "ipython3",
   "version": "3.8.5"
  }
 },
 "nbformat": 4,
 "nbformat_minor": 4
}
